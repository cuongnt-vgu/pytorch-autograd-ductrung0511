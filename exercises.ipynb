{
 "cells": [
  {
   "cell_type": "code",
   "execution_count": 4,
   "metadata": {},
   "outputs": [],
   "source": [
    "from torch import nn\n",
    "import torch"
   ]
  },
  {
   "cell_type": "markdown",
   "metadata": {},
   "source": [
    "##### Attention:\n",
    "For this lab, there are no local answers for the questions in learntools. However, there are some assertions for the first 4 questions. You should pass all of the assertions before submitting to the autograding.\n",
    "\n",
    "Some of the questions use mathematical symbols and equations to depict the scenario. These are just some basic \"formal\" definitions and you should understand them. In case you haven't understood them, read again and give yourself sometime to ponder. If there is any error or details in the questions that heavily confuse you, please post your concerns on Google Classroom. "
   ]
  },
  {
   "cell_type": "markdown",
   "metadata": {},
   "source": [
    "## Questions"
   ]
  },
  {
   "cell_type": "markdown",
   "metadata": {},
   "source": [
    "### Q1: Given a function $f(x) = x^2 + 3x + 8$, return the gradient of $x$ when $x=2.0$ using pytorch autograd. The gradient tensor should have type torch.float32 and dim=0."
   ]
  },
  {
   "cell_type": "code",
   "execution_count": 10,
   "metadata": {},
   "outputs": [],
   "source": [
    "def exercise_1() -> torch.Tensor:\n",
    "    x = torch.tensor(2.0, requires_grad=True, dtype=torch.float32)\n",
    "    y = x**2 + 3*x + 8\n",
    "    # Compute the gradient of y with respect to x\n",
    "    y.backward()\n",
    "\n",
    "    # Access the gradient of x\n",
    "    gradient = x.grad\n",
    "\n",
    "    return gradient\n",
    "\n",
    "ex1_sol = exercise_1()\n",
    "assert torch.equal(ex1_sol, torch.tensor(7.0))"
   ]
  },
  {
   "cell_type": "markdown",
   "metadata": {},
   "source": [
    "### Q2: A typical layer in a Neural Network would look like $f(x) = w_1 x_1 + w_2 x_2 + w_3 x_3 + ... + b$, where $w_j$ is the j-th weight of the function and $b$ is its bias. This function outputs a result for a multi-dimension input, where $x_j$ is the j-th feature of the input. Implement this function, return the gradients of each weight for a given input `x` and the output using `tuple` with the formar `(output, weight_grads_tensor)`. The weights should be randomized using `torch.randn()` and the bias must be set to $5.0$. The input used by the autograder will be the same size as the one given below."
   ]
  },
  {
   "cell_type": "code",
   "execution_count": 9,
   "metadata": {},
   "outputs": [
    {
     "name": "stdout",
     "output_type": "stream",
     "text": [
      "5\n",
      "tensor(1.5410)\n",
      "x +\n",
      "tensor(-0.2934)\n",
      "x +\n",
      "tensor(-2.1788)\n",
      "x +\n",
      "tensor(0.5684)\n",
      "x +\n",
      "tensor(-1.0845)\n",
      "x +\n",
      "tensor(5.)\n",
      "output:  end= tensor(-3.7311)\n"
     ]
    }
   ],
   "source": [
    "x = torch.tensor([1, 2, 3, 4, 5])\n",
    "\n",
    "def exercise_2(x) -> tuple:\n",
    "    # all the output and gradients are tensors\n",
    "\n",
    "    # Ensure input x is a float tensor and requires grad\n",
    "    x = x.float().requires_grad_(True)\n",
    "    n_features = x.size(0)\n",
    "    print(x.size(0))\n",
    "\n",
    "    torch.manual_seed(0) # must set seed=0 before random your weight\n",
    "    weights = torch.randn(n_features, dtype=torch.float32, requires_grad=True)\n",
    "    bias = torch.tensor(5.0, dtype=torch.float32, requires_grad=True)\n",
    "\n",
    "    # Calculate the output\n",
    "    output = torch.sum(weights * x) + bias\n",
    "\n",
    "    for i in range(n_features):\n",
    "        print(weights[i].detach() )\n",
    "        print(\"x +\")\n",
    "    print(bias.detach())\n",
    "    print(\"output: \", \"end=\", output.detach())\n",
    "\n",
    "    # Compute the gradients of the output with respect to the weights\n",
    "    output.backward()\n",
    "\n",
    "    # Access the gradients of the weights\n",
    "    weight_grads_tensor = weights.grad\n",
    "\n",
    "\n",
    "    return (output.detach(), weight_grads_tensor.detach())\n",
    "\n",
    "    # return (output, weight_grads_tensor)\n",
    "\n",
    "ex2_sol = exercise_2(x)\n",
    "\n",
    "assert (ex2_sol[0] - torch.tensor(-3.7311) < 1e-4).item()\n",
    "assert torch.equal(ex2_sol[1], torch.tensor([1, 2, 3, 4, 5], dtype=torch.float32))"
   ]
  },
  {
   "cell_type": "markdown",
   "metadata": {},
   "source": [
    "### Q3: Suppose each feature $x_j$ needs a separate function $f_j(x_j)$, where $f_j(x_j) = w_j x_j + b_j$. In other words, each feature requires a function, which has a separate set of 1 weight and 1 bias. Therefore, the output $y$ of your function $G(x)=[f_1(x_1), f_2(x_2), ..., f_n(x_n)]$ should be $y = [(w_1 x_1 + b_1), (w_2 x_2 + b_2), ..., (w_n x_n + b_n)]$ (**note:** these are matrices written lazily with markdown). Implement the function $G(x)$, return the output and the gradient sets for each function for a given `x`. The weights should be randomized using `torch.randn()`, and the bias is the same as $j$ of $f_j()$ (for example: $b_1 = 1.0$, $b_2 = 2.0$). The input used by the autograder will be the same size as the one given below."
   ]
  },
  {
   "cell_type": "code",
   "execution_count": 8,
   "metadata": {},
   "outputs": [
    {
     "name": "stdout",
     "output_type": "stream",
     "text": [
      "i=  0\n",
      "i=  1\n",
      "i=  2\n",
      "i=  3\n",
      "i=  4\n"
     ]
    }
   ],
   "source": [
    "x = torch.tensor([1, 2, 3, 4, 5])\n",
    "\n",
    "def exercise_3(x) -> tuple:\n",
    "    # all the output and gradients are tensors\n",
    "\n",
    "    # Ensure input x is a float tensor and requires grad\n",
    "    x = x.float().requires_grad_(True)\n",
    "    n_features = x.size(0)\n",
    "\n",
    "    torch.manual_seed(0) # must set seed=0 before random your weight\n",
    "    weights = torch.randn(n_features, dtype=torch.float32, requires_grad=True)\n",
    "    biases = torch.arange(1, n_features + 1, dtype = torch.float32, requires_grad = True)\n",
    "\n",
    "    # Calculate the output\n",
    "    output = weights * x + biases\n",
    "\n",
    "    gradients = []\n",
    "    for i in range(n_features):\n",
    "        output[i].backward(retain_graph=True)\n",
    "        gradients.append(weights.grad[i].item())\n",
    "        print(\"i= \", i, end='\\n')\n",
    "        # for u in range(5):\n",
    "        #     print(weights.grad[i].item(), end=\"\\n\")\n",
    "        weights.grad.zero_()\n",
    "    weight_grads_tensor = torch.tensor(gradients, dtype=torch.float32)\n",
    "        \n",
    "\n",
    "    # for i in range(n_features):\n",
    "    #     print(weights[i].detach() )\n",
    "    #     print(\"x +\")\n",
    "    # print(bias.detach())\n",
    "\n",
    "    # print(\"output: \", output.detach())\n",
    "    # print(\"output: \", gradients)\n",
    "\n",
    "    return (output.detach(), weight_grads_tensor.detach())\n",
    "\n",
    "ex3_sol = exercise_3(x)\n",
    "assert torch.all((ex3_sol[0] - torch.tensor([ 2.5410,  1.4131, -3.5364,  6.2737, -0.4226 ], dtype=torch.float32)) < 5e-4).item()\n",
    "assert torch.equal(ex3_sol[1], torch.tensor([1, 2, 3, 4, 5], dtype=torch.float32))\n",
    "# q3.check()"
   ]
  },
  {
   "cell_type": "markdown",
   "metadata": {},
   "source": [
    "### Q4: Using the function $f(x)$ similar to the one in question 2, implement the function with random weights and bias (must use `torch.manual_seed(0)` before each initialization). Calculate the Mean Squared Error between the `target` and your function prediction on the `data` as a loss metric, then return a tuple containing the gradients of your function weights and bias based on the calculated loss."
   ]
  },
  {
   "cell_type": "code",
   "execution_count": 7,
   "metadata": {},
   "outputs": [
    {
     "name": "stdout",
     "output_type": "stream",
     "text": [
      "torch.Size([1])\n",
      "torch.Size([1, 1])\n",
      "Check passed!\n"
     ]
    }
   ],
   "source": [
    "import torch\n",
    "\n",
    "data = torch.tensor([2.0, 3.0, 4.0, 5.0, 6.0, 7.0, 8.0, 9.0, 10.0, 11.0], dtype=torch.float32)\n",
    "target = torch.tensor([2.0], dtype=torch.float32).unsqueeze(0) # Added unsqueeze for proper broadcasting\n",
    "\n",
    "def exercise_4(data, target) -> tuple:\n",
    "    torch.manual_seed(0)\n",
    "    n_features = data.size(0) # Get the size of the 1D data tensor\n",
    "    weights = torch.randn(n_features, dtype=torch.float32, requires_grad=True)\n",
    "    torch.manual_seed(0) # Reset seed for consistent bias initialization\n",
    "    bias = torch.randn(1, dtype=torch.float32, requires_grad=True)\n",
    "\n",
    "    # Calculate the prediction\n",
    "    prediction = torch.sum(data * weights) + bias # Removed dim argument as data is 1D\n",
    "    print(prediction.shape)\n",
    "    print(target.shape)\n",
    "    prediction = prediction.unsqueeze(0) # Ensure prediction has the same number of dimensions as target\n",
    "\n",
    "    # Calculate the Mean Squared Error loss\n",
    "    loss = torch.mean((prediction - target)**2)\n",
    "\n",
    "    # Compute the gradients of the loss with respect to weights and bias\n",
    "    loss.backward()\n",
    "\n",
    "    return (weights.grad.detach(), bias.grad.detach())\n",
    "\n",
    "ex4_sol = exercise_4(data, target)\n",
    "assert ex4_sol[0].dim() == 1 and ex4_sol[1].dim() == 1, print(\"All tensors must have dim == 1\")\n",
    "assert torch.allclose(ex4_sol[0], torch.tensor([-85.1518, -127.7277, -170.3036, -212.8795, -255.4553, -298.0312, -340.6071, -383.1830, -425.7589, -468.3348], dtype=torch.float32), atol=5e-4)\n",
    "assert torch.allclose(ex4_sol[1], torch.tensor([-42.5759], dtype=torch.float32), atol=5e-4)\n",
    "\n",
    "print(\"Check passed!\")"
   ]
  },
  {
   "cell_type": "markdown",
   "metadata": {},
   "source": [
    "### Q5: This question worth 40% the points of this lab. Your solution for this question will be graded manually by the TAs, hence you will be informed later for the total points for this lab after the deadline has been met."
   ]
  },
  {
   "cell_type": "markdown",
   "metadata": {},
   "source": [
    "**Note**: This question will not focus on getting the right results as your implementation is more important. Therefore there will be no local answer or autograding."
   ]
  },
  {
   "cell_type": "markdown",
   "metadata": {},
   "source": [
    "#### Create a small neural network consisting 2 Linear layers, each followed by a Sigmoid activation function. The template code has been provided below including the return format (`x` should be replaced by the final `tensor` after the forward pass). Your code must use layers and functions provided by `pytorch`. Initialize all necessary components that can be used during the training phase including a Binary Cross Entropy Loss function and a Gradient Descent optimizer. Train your model for 2 epochs with a proper train loop, then make a prediction on a given `val_x` and return your prediction."
   ]
  },
  {
   "cell_type": "markdown",
   "metadata": {},
   "source": [
    "**Note**: the first Linear Layer can have any `in_features` and `out_features`, but the last Linear Layer must have `out_features=2`. Your model will consume the whole input for each epoch, so you don't need to separate the input into batches."
   ]
  },
  {
   "cell_type": "markdown",
   "metadata": {},
   "source": [
    "*Context*: This part is not necessary for your implementation, but it could help you to understand the work that your network is simulating. The `train_x` consists grades for 5 subjects of 20 students, with the minimum grade is 1 and the maximum is 10. The problem is a classification task, when your model predicts if a student is good or bad based on their 5 grades. That is the reason why the final layer must have 2 output features, which correspond to the 2 classes \"good\" and \"bad\"."
   ]
  },
  {
   "cell_type": "code",
   "execution_count": null,
   "metadata": {},
   "outputs": [
    {
     "name": "stdout",
     "output_type": "stream",
     "text": [
      "Epoch 1, Loss: 0.6834\n",
      "Epoch 2, Loss: 0.6829\n",
      "logits:  tensor([[0.5393, 0.5751],\n",
      "        [0.5893, 0.5371],\n",
      "        [0.5751, 0.5606],\n",
      "        [0.6016, 0.5306],\n",
      "        [0.5648, 0.5543],\n",
      "        [0.5904, 0.5327],\n",
      "        [0.6000, 0.5560],\n",
      "        [0.5551, 0.5815],\n",
      "        [0.5337, 0.5473],\n",
      "        [0.5587, 0.5721]])\n",
      "Final loss:  tensor(0.6814)\n",
      "\n",
      "Predictions on val_x:\n",
      "Good-\n",
      "Bad-\n",
      "Bad-\n",
      "Bad-\n",
      "Bad-\n",
      "Bad-\n",
      "Bad-\n",
      "Good-\n",
      "Good-\n",
      "Good-\n"
     ]
    }
   ],
   "source": [
    "import torch\n",
    "import torch.nn as nn\n",
    "import torch.optim as optim\n",
    "\n",
    "train_x = torch.randint(1, 10, (20, 5), dtype=torch.float32) # input\n",
    "train_y = (train_x.sum(1) > 30).long() # target should be long for CrossEntropyLoss\n",
    "\n",
    "val_x = torch.randint(1, 10, (10, 5), dtype=torch.float32)\n",
    "val_y = (val_x.sum(1) > 30 ).long() # For accuracy check\n",
    "\n",
    "\n",
    "\n",
    "def exercise_5(train_x, train_y, val_x) -> torch.Tensor:\n",
    "\n",
    "    class MyNetwork(nn.Module):\n",
    "        def __init__(self):\n",
    "            super().__init__()\n",
    "            self.linear1 = nn.Linear(5, 10)\n",
    "            self.sigmoid1 = nn.Sigmoid()\n",
    "            self.linear2 = nn.Linear(10, 2) # Output size 2 for two classes\n",
    "            self.sigmoid2 = nn.Sigmoid() # Sigmoid after the second linear layer\n",
    "\n",
    "        def forward(self, x):\n",
    "            x = self.linear1(x)\n",
    "            x = self.sigmoid1(x)\n",
    "            x = self.linear2(x)\n",
    "            x = self.sigmoid2(x)\n",
    "            \n",
    "            return x # Return the output after the final sigmoid\n",
    "            # return x[:,0] ==> will cause error for the loss function\n",
    "            # because the output argument does not have the expected shape for a 2-class classification task\n",
    "\n",
    "    loss_fn = nn.CrossEntropyLoss()\n",
    "    model = MyNetwork() # model is an instant of class that inherited from nn.Module - the base class for all neural network modules in PyTorch\n",
    "    optimizer = optim.SGD(model.parameters(), lr=0.01) # initializes the Stochastic Gradient Descent (SGD) optimizer.\n",
    "\n",
    "    # train loop\n",
    "    for epoch in range(2):\n",
    "\n",
    "        model.train() # Set the model's mode for training\n",
    "        optimizer.zero_grad() \n",
    "        output = model(train_x)\n",
    "        loss = loss_fn(output, train_y)\n",
    "        loss.backward()\n",
    "        optimizer.step() #  adjusts the model's parameters. \n",
    "        # For each parameter, it updates its value based on its gradient and the learning rate\n",
    "        # parameter = parameter - learning_rate * gradient\n",
    "        print(f\"Epoch {epoch+1}, Loss: {loss.item():.4f}\")\n",
    "\n",
    "    # make a prediction on val_x\n",
    "    model.eval() # Set the model's mode for evaluation\n",
    "    with torch.no_grad():\n",
    "        logits = model(val_x) # Output is now after the sigmoid\n",
    "        print('logits: ', logits)\n",
    "        loss = loss_fn(logits, val_y)\n",
    "        print(\"Final loss: \", loss, end=\"\\n\")\n",
    "        predictions = torch.argmax(logits, dim=1) # Get the class with the highest \"probability\"\n",
    "\n",
    "    return predictions\n",
    "\n",
    "ex5_sol = exercise_5(train_x=train_x, train_y=train_y, val_x=val_x)\n",
    "\n",
    "# print(\"val_x\", val_x)\n",
    "print(\"\\nPredictions on val_x:\")\n",
    "for i in ex5_sol:\n",
    "    if i == 0 :\n",
    "        print('Bad', end='-')\n",
    "    else:\n",
    "        print('Good', end='-') \n",
    "    print(end='\\n') \n",
    "# print(ex5_sol)\n",
    "\n"
   ]
  },
  {
   "cell_type": "code",
   "execution_count": null,
   "metadata": {},
   "outputs": [],
   "source": []
  }
 ],
 "metadata": {
  "kernelspec": {
   "display_name": "Python 3",
   "language": "python",
   "name": "python3"
  },
  "language_info": {
   "codemirror_mode": {
    "name": "ipython",
    "version": 3
   },
   "file_extension": ".py",
   "mimetype": "text/x-python",
   "name": "python",
   "nbconvert_exporter": "python",
   "pygments_lexer": "ipython3",
   "version": "3.12.1"
  }
 },
 "nbformat": 4,
 "nbformat_minor": 2
}
